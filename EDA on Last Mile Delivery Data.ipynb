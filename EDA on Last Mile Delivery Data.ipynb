{
 "cells": [
  {
   "cell_type": "markdown",
   "metadata": {},
   "source": [
    "# Analysing Last Mile Delivery Data"
   ]
  },
  {
   "cell_type": "code",
   "execution_count": 1,
   "metadata": {},
   "outputs": [],
   "source": [
    "# Suppressing the Warnings\n",
    "import warnings\n",
    "warnings.filterwarnings('ignore')"
   ]
  },
  {
   "cell_type": "code",
   "execution_count": 2,
   "metadata": {},
   "outputs": [],
   "source": [
    "# Importing Libraries\n",
    "import numpy as np\n",
    "import pandas as pd\n",
    "import matplotlib.pyplot as plt\n",
    "import matplotlib.style as style\n",
    "import seaborn as sns\n",
    "import itertools\n",
    "%matplotlib inline\n",
    "\n",
    "# Styling the plot\n",
    "style.use('ggplot')\n",
    "sns.set_style('whitegrid')"
   ]
  },
  {
   "cell_type": "code",
   "execution_count": 3,
   "metadata": {},
   "outputs": [],
   "source": [
    "# Adjusting Output Views\n",
    "pd.set_option('display.max_rows', 500)\n",
    "pd.set_option('display.max_columns', 500)\n",
    "pd.set_option('display.width', 1000)\n",
    "pd.set_option('display.expand_frame_repr', False)"
   ]
  },
  {
   "cell_type": "code",
   "execution_count": 4,
   "metadata": {},
   "outputs": [],
   "source": [
    "# Importing the Dataset\n",
    "df = pd.read_csv('last mile delivery.csv')"
   ]
  },
  {
   "cell_type": "markdown",
   "metadata": {},
   "source": [
    "## Inspecting the Dataset"
   ]
  },
  {
   "cell_type": "code",
   "execution_count": 5,
   "metadata": {
    "scrolled": true
   },
   "outputs": [
    {
     "data": {
      "text/plain": [
       "(97843, 30)"
      ]
     },
     "execution_count": 5,
     "metadata": {},
     "output_type": "execute_result"
    }
   ],
   "source": [
    "df.shape"
   ]
  },
  {
   "cell_type": "markdown",
   "metadata": {},
   "source": [
    "As we can see there are 30 features, we will inspect which features are important and drop the unnecessary features."
   ]
  },
  {
   "cell_type": "code",
   "execution_count": 6,
   "metadata": {},
   "outputs": [
    {
     "data": {
      "text/html": [
       "<div>\n",
       "<style scoped>\n",
       "    .dataframe tbody tr th:only-of-type {\n",
       "        vertical-align: middle;\n",
       "    }\n",
       "\n",
       "    .dataframe tbody tr th {\n",
       "        vertical-align: top;\n",
       "    }\n",
       "\n",
       "    .dataframe thead th {\n",
       "        text-align: right;\n",
       "    }\n",
       "</style>\n",
       "<table border=\"1\" class=\"dataframe\">\n",
       "  <thead>\n",
       "    <tr style=\"text-align: right;\">\n",
       "      <th></th>\n",
       "      <th>Airwaybill Number</th>\n",
       "      <th>Shipment Type</th>\n",
       "      <th>Ref Airwaybill Number</th>\n",
       "      <th>Order Number</th>\n",
       "      <th>No of Box</th>\n",
       "      <th>Weight</th>\n",
       "      <th>Declared Amount</th>\n",
       "      <th>COD Amount</th>\n",
       "      <th>Item Description</th>\n",
       "      <th>Origin</th>\n",
       "      <th>Destination</th>\n",
       "      <th>Original Destination</th>\n",
       "      <th>Vendor</th>\n",
       "      <th>Shipper</th>\n",
       "      <th>Pickup Address</th>\n",
       "      <th>Pickup Pincode</th>\n",
       "      <th>Consignee</th>\n",
       "      <th>Consignee Address</th>\n",
       "      <th>Destination Pincode</th>\n",
       "      <th>Consignee Number</th>\n",
       "      <th>Inscan Date</th>\n",
       "      <th>Inscan Time</th>\n",
       "      <th>Last Scan Location</th>\n",
       "      <th>User ID</th>\n",
       "      <th>Status</th>\n",
       "      <th>Reason</th>\n",
       "      <th>Delivered Date</th>\n",
       "      <th>Delivered Time</th>\n",
       "      <th>Last Updated On Date</th>\n",
       "      <th>Last Updated On Time</th>\n",
       "    </tr>\n",
       "  </thead>\n",
       "  <tbody>\n",
       "    <tr>\n",
       "      <th>0</th>\n",
       "      <td>703169773</td>\n",
       "      <td>Forward Shipment</td>\n",
       "      <td>None</td>\n",
       "      <td>4.01819E+11</td>\n",
       "      <td>1</td>\n",
       "      <td>2.950</td>\n",
       "      <td>4780.0</td>\n",
       "      <td>4780.0</td>\n",
       "      <td>Oriflame</td>\n",
       "      <td>NOI - Noida</td>\n",
       "      <td>NOI - Noida</td>\n",
       "      <td>NaN</td>\n",
       "      <td>Oriflame India Private Limited</td>\n",
       "      <td>Oriflame India Private Limited - 74009</td>\n",
       "      <td>NOIDADelhi NCR</td>\n",
       "      <td>201301</td>\n",
       "      <td>Dev Karodia</td>\n",
       "      <td>1804, Mantova, Mahagun Moderne, 8368079942, Se...</td>\n",
       "      <td>201301</td>\n",
       "      <td>8.107678e+09</td>\n",
       "      <td>01-08-2018</td>\n",
       "      <td>08:31:52</td>\n",
       "      <td>NOI - Noida</td>\n",
       "      <td>PRTOUCH PRTOUCH</td>\n",
       "      <td>Delivered</td>\n",
       "      <td>999 - Delivered</td>\n",
       "      <td>01-08-2018</td>\n",
       "      <td>15:15:13</td>\n",
       "      <td>01-08-2018</td>\n",
       "      <td>15:15:13</td>\n",
       "    </tr>\n",
       "    <tr>\n",
       "      <th>1</th>\n",
       "      <td>116089130</td>\n",
       "      <td>Forward Shipment</td>\n",
       "      <td>None</td>\n",
       "      <td>SAP24158</td>\n",
       "      <td>4</td>\n",
       "      <td>30.461</td>\n",
       "      <td>0.0</td>\n",
       "      <td>0.0</td>\n",
       "      <td>MODICARE LIMITED</td>\n",
       "      <td>AMB - Ahmedabad</td>\n",
       "      <td>RKTV - Rajkot</td>\n",
       "      <td>NaN</td>\n",
       "      <td>Modicare Limited</td>\n",
       "      <td>Modicare Limited - 15165</td>\n",
       "      <td>MODICARE LIMITED GALA  NO.1&amp;3 A SUMAR LOGISTIC...</td>\n",
       "      <td>382427</td>\n",
       "      <td>KULDEEP DUDHATRA</td>\n",
       "      <td>PRATIK HYTECH PVT. LTD., ROAD NO-G5,PLOT NO-16...</td>\n",
       "      <td>361005</td>\n",
       "      <td>9.510792e+09</td>\n",
       "      <td>01-08-2018</td>\n",
       "      <td>11:04:28</td>\n",
       "      <td>RKTV - Rajkot</td>\n",
       "      <td>PRTOUCH PRTOUCH</td>\n",
       "      <td>Delivered</td>\n",
       "      <td>999 - Delivered</td>\n",
       "      <td>02-08-2018</td>\n",
       "      <td>22:10:27</td>\n",
       "      <td>02-08-2018</td>\n",
       "      <td>22:10:27</td>\n",
       "    </tr>\n",
       "    <tr>\n",
       "      <th>2</th>\n",
       "      <td>116089155</td>\n",
       "      <td>Forward Shipment</td>\n",
       "      <td>None</td>\n",
       "      <td>SAP24182</td>\n",
       "      <td>2</td>\n",
       "      <td>16.295</td>\n",
       "      <td>0.0</td>\n",
       "      <td>0.0</td>\n",
       "      <td>MODICARE LIMITED</td>\n",
       "      <td>AMB - Ahmedabad</td>\n",
       "      <td>RKTV - Rajkot</td>\n",
       "      <td>NaN</td>\n",
       "      <td>Modicare Limited</td>\n",
       "      <td>Modicare Limited - 15165</td>\n",
       "      <td>MODICARE LIMITED GALA  NO.1&amp;3 A SUMAR LOGISTIC...</td>\n",
       "      <td>382427</td>\n",
       "      <td>PANKAJBHAI RAMESHBHAI JOSHI</td>\n",
       "      <td>NO. 104 K.G SHOPING CENTERTALAJA,AhmedabadGUJARAT</td>\n",
       "      <td>361005</td>\n",
       "      <td>8.264732e+09</td>\n",
       "      <td>01-08-2018</td>\n",
       "      <td>11:11:45</td>\n",
       "      <td>RKTV - Rajkot</td>\n",
       "      <td>PRTOUCH PRTOUCH</td>\n",
       "      <td>Delivered</td>\n",
       "      <td>999 - Delivered</td>\n",
       "      <td>01-08-2018</td>\n",
       "      <td>22:45:09</td>\n",
       "      <td>01-08-2018</td>\n",
       "      <td>22:45:09</td>\n",
       "    </tr>\n",
       "    <tr>\n",
       "      <th>3</th>\n",
       "      <td>115561359</td>\n",
       "      <td>Forward Shipment</td>\n",
       "      <td>None</td>\n",
       "      <td>137914952</td>\n",
       "      <td>1</td>\n",
       "      <td>1.380</td>\n",
       "      <td>0.0</td>\n",
       "      <td>0.0</td>\n",
       "      <td>0</td>\n",
       "      <td>CSO - Chennai South</td>\n",
       "      <td>CNO - Chennai North</td>\n",
       "      <td>NaN</td>\n",
       "      <td>AMWAY INDIA ENTERPRISES PVT.LTD.</td>\n",
       "      <td>AMWAY INDIA ENTERPRISES PVT.LTD. - 24008</td>\n",
       "      <td>API ADDAPI ADDChennai</td>\n",
       "      <td>600029</td>\n",
       "      <td>GANESAN, VIJAYALAKSHMI  R, GANESAN</td>\n",
       "      <td>NO:97,SANTHANA SRINIVAS NIKETAN1ST MAIN RD,WES...</td>\n",
       "      <td>600053</td>\n",
       "      <td>8.056309e+09</td>\n",
       "      <td>01-08-2018</td>\n",
       "      <td>12:21:31</td>\n",
       "      <td>CNO - Chennai North</td>\n",
       "      <td>PRTOUCH PRTOUCH</td>\n",
       "      <td>Delivered</td>\n",
       "      <td>999 - Delivered</td>\n",
       "      <td>01-08-2018</td>\n",
       "      <td>20:24:09</td>\n",
       "      <td>01-08-2018</td>\n",
       "      <td>20:24:09</td>\n",
       "    </tr>\n",
       "    <tr>\n",
       "      <th>4</th>\n",
       "      <td>115561347</td>\n",
       "      <td>Forward Shipment</td>\n",
       "      <td>None</td>\n",
       "      <td>137918267</td>\n",
       "      <td>1</td>\n",
       "      <td>0.120</td>\n",
       "      <td>0.0</td>\n",
       "      <td>0.0</td>\n",
       "      <td>0</td>\n",
       "      <td>CSO - Chennai South</td>\n",
       "      <td>CNO - Chennai North</td>\n",
       "      <td>NaN</td>\n",
       "      <td>AMWAY INDIA ENTERPRISES PVT.LTD.</td>\n",
       "      <td>AMWAY INDIA ENTERPRISES PVT.LTD. - 24008</td>\n",
       "      <td>API ADDAPI ADDChennai</td>\n",
       "      <td>600029</td>\n",
       "      <td>K, SURESH VICTORR  S, ESTHER POONKOTH</td>\n",
       "      <td>NO 1039 1ST FLOOR 6TH MAIN ROADERI SCHEME MOGA...</td>\n",
       "      <td>600037</td>\n",
       "      <td>8.939877e+09</td>\n",
       "      <td>01-08-2018</td>\n",
       "      <td>12:18:12</td>\n",
       "      <td>CNO - Chennai North</td>\n",
       "      <td>PRTOUCH PRTOUCH</td>\n",
       "      <td>Delivered</td>\n",
       "      <td>999 - Delivered</td>\n",
       "      <td>02-08-2018</td>\n",
       "      <td>14:42:16</td>\n",
       "      <td>02-08-2018</td>\n",
       "      <td>14:42:16</td>\n",
       "    </tr>\n",
       "  </tbody>\n",
       "</table>\n",
       "</div>"
      ],
      "text/plain": [
       "   Airwaybill Number     Shipment Type Ref Airwaybill Number Order Number  No of Box  Weight  Declared Amount  COD Amount  Item Description               Origin          Destination Original Destination                            Vendor                                   Shipper                                     Pickup Address Pickup Pincode                              Consignee                                  Consignee Address  Destination Pincode  Consignee Number Inscan Date Inscan Time   Last Scan Location          User ID     Status           Reason Delivered Date Delivered Time Last Updated On Date Last Updated On Time\n",
       "0          703169773  Forward Shipment                  None  4.01819E+11          1   2.950           4780.0      4780.0          Oriflame          NOI - Noida          NOI - Noida                  NaN    Oriflame India Private Limited    Oriflame India Private Limited - 74009                                     NOIDADelhi NCR         201301                            Dev Karodia  1804, Mantova, Mahagun Moderne, 8368079942, Se...               201301      8.107678e+09  01-08-2018    08:31:52          NOI - Noida  PRTOUCH PRTOUCH  Delivered  999 - Delivered     01-08-2018       15:15:13           01-08-2018             15:15:13\n",
       "1          116089130  Forward Shipment                  None     SAP24158          4  30.461              0.0         0.0  MODICARE LIMITED      AMB - Ahmedabad        RKTV - Rajkot                  NaN                  Modicare Limited                  Modicare Limited - 15165  MODICARE LIMITED GALA  NO.1&3 A SUMAR LOGISTIC...         382427                       KULDEEP DUDHATRA  PRATIK HYTECH PVT. LTD., ROAD NO-G5,PLOT NO-16...               361005      9.510792e+09  01-08-2018    11:04:28        RKTV - Rajkot  PRTOUCH PRTOUCH  Delivered  999 - Delivered     02-08-2018       22:10:27           02-08-2018             22:10:27\n",
       "2          116089155  Forward Shipment                  None     SAP24182          2  16.295              0.0         0.0  MODICARE LIMITED      AMB - Ahmedabad        RKTV - Rajkot                  NaN                  Modicare Limited                  Modicare Limited - 15165  MODICARE LIMITED GALA  NO.1&3 A SUMAR LOGISTIC...         382427            PANKAJBHAI RAMESHBHAI JOSHI  NO. 104 K.G SHOPING CENTERTALAJA,AhmedabadGUJARAT               361005      8.264732e+09  01-08-2018    11:11:45        RKTV - Rajkot  PRTOUCH PRTOUCH  Delivered  999 - Delivered     01-08-2018       22:45:09           01-08-2018             22:45:09\n",
       "3          115561359  Forward Shipment                  None    137914952          1   1.380              0.0         0.0                 0  CSO - Chennai South  CNO - Chennai North                  NaN  AMWAY INDIA ENTERPRISES PVT.LTD.  AMWAY INDIA ENTERPRISES PVT.LTD. - 24008                              API ADDAPI ADDChennai         600029     GANESAN, VIJAYALAKSHMI  R, GANESAN  NO:97,SANTHANA SRINIVAS NIKETAN1ST MAIN RD,WES...               600053      8.056309e+09  01-08-2018    12:21:31  CNO - Chennai North  PRTOUCH PRTOUCH  Delivered  999 - Delivered     01-08-2018       20:24:09           01-08-2018             20:24:09\n",
       "4          115561347  Forward Shipment                  None    137918267          1   0.120              0.0         0.0                 0  CSO - Chennai South  CNO - Chennai North                  NaN  AMWAY INDIA ENTERPRISES PVT.LTD.  AMWAY INDIA ENTERPRISES PVT.LTD. - 24008                              API ADDAPI ADDChennai         600029  K, SURESH VICTORR  S, ESTHER POONKOTH  NO 1039 1ST FLOOR 6TH MAIN ROADERI SCHEME MOGA...               600037      8.939877e+09  01-08-2018    12:18:12  CNO - Chennai North  PRTOUCH PRTOUCH  Delivered  999 - Delivered     02-08-2018       14:42:16           02-08-2018             14:42:16"
      ]
     },
     "execution_count": 6,
     "metadata": {},
     "output_type": "execute_result"
    }
   ],
   "source": [
    "df.head()"
   ]
  },
  {
   "cell_type": "code",
   "execution_count": 7,
   "metadata": {
    "scrolled": false
   },
   "outputs": [
    {
     "name": "stdout",
     "output_type": "stream",
     "text": [
      "<class 'pandas.core.frame.DataFrame'>\n",
      "RangeIndex: 97843 entries, 0 to 97842\n",
      "Data columns (total 30 columns):\n",
      " #   Column                 Non-Null Count  Dtype  \n",
      "---  ------                 --------------  -----  \n",
      " 0   Airwaybill Number      97843 non-null  int64  \n",
      " 1   Shipment Type          97843 non-null  object \n",
      " 2   Ref Airwaybill Number  97843 non-null  object \n",
      " 3   Order Number           97838 non-null  object \n",
      " 4   No of Box              97843 non-null  int64  \n",
      " 5   Weight                 97843 non-null  float64\n",
      " 6   Declared Amount        97843 non-null  float64\n",
      " 7   COD Amount             97843 non-null  float64\n",
      " 8   Item Description       97843 non-null  object \n",
      " 9   Origin                 97843 non-null  object \n",
      " 10  Destination            97843 non-null  object \n",
      " 11  Original Destination   126 non-null    object \n",
      " 12  Vendor                 97843 non-null  object \n",
      " 13  Shipper                97843 non-null  object \n",
      " 14  Pickup Address         97843 non-null  object \n",
      " 15  Pickup Pincode         97843 non-null  object \n",
      " 16  Consignee              97843 non-null  object \n",
      " 17  Consignee Address      97843 non-null  object \n",
      " 18  Destination Pincode    97843 non-null  int64  \n",
      " 19  Consignee Number       97843 non-null  float64\n",
      " 20  Inscan Date            97843 non-null  object \n",
      " 21  Inscan Time            97843 non-null  object \n",
      " 22  Last Scan Location     97843 non-null  object \n",
      " 23  User ID                97843 non-null  object \n",
      " 24  Status                 97843 non-null  object \n",
      " 25  Reason                 97843 non-null  object \n",
      " 26  Delivered Date         97843 non-null  object \n",
      " 27  Delivered Time         97843 non-null  object \n",
      " 28  Last Updated On Date   97843 non-null  object \n",
      " 29  Last Updated On Time   97843 non-null  object \n",
      "dtypes: float64(4), int64(3), object(23)\n",
      "memory usage: 22.4+ MB\n"
     ]
    }
   ],
   "source": [
    "df.info()"
   ]
  },
  {
   "cell_type": "code",
   "execution_count": 8,
   "metadata": {},
   "outputs": [
    {
     "data": {
      "text/plain": [
       "Airwaybill Number         0.0000\n",
       "Shipment Type             0.0000\n",
       "Ref Airwaybill Number     0.0000\n",
       "Order Number              0.0051\n",
       "No of Box                 0.0000\n",
       "Weight                    0.0000\n",
       "Declared Amount           0.0000\n",
       "COD Amount                0.0000\n",
       "Item Description          0.0000\n",
       "Origin                    0.0000\n",
       "Destination               0.0000\n",
       "Original Destination     99.8712\n",
       "Vendor                    0.0000\n",
       "Shipper                   0.0000\n",
       "Pickup Address            0.0000\n",
       "Pickup Pincode            0.0000\n",
       "Consignee                 0.0000\n",
       "Consignee Address         0.0000\n",
       "Destination Pincode       0.0000\n",
       "Consignee Number          0.0000\n",
       "Inscan Date               0.0000\n",
       "Inscan Time               0.0000\n",
       "Last Scan Location        0.0000\n",
       "User ID                   0.0000\n",
       "Status                    0.0000\n",
       "Reason                    0.0000\n",
       "Delivered Date            0.0000\n",
       "Delivered Time            0.0000\n",
       "Last Updated On Date      0.0000\n",
       "Last Updated On Time      0.0000\n",
       "dtype: float64"
      ]
     },
     "execution_count": 8,
     "metadata": {},
     "output_type": "execute_result"
    }
   ],
   "source": [
    "# Null percentage in each column\n",
    "round((df.isnull().sum()/len(df))*100,4)"
   ]
  },
  {
   "cell_type": "markdown",
   "metadata": {},
   "source": [
    "#### Original Destination has 99.9 percent null values. Hence, dropping this column.\n"
   ]
  },
  {
   "cell_type": "code",
   "execution_count": 9,
   "metadata": {},
   "outputs": [],
   "source": [
    "df.drop(\"Original Destination\", axis=1,inplace=True)"
   ]
  },
  {
   "cell_type": "code",
   "execution_count": 10,
   "metadata": {},
   "outputs": [],
   "source": [
    "# Dropping unnecessary columns\n",
    "df.drop([\"Airwaybill Number\",\"Ref Airwaybill Number\",\"Order Number\",\"User ID\",\"Consignee Number\",\"Consignee Address\",\"Consignee\"],inplace=True, axis=1)"
   ]
  },
  {
   "cell_type": "code",
   "execution_count": 11,
   "metadata": {},
   "outputs": [],
   "source": [
    "# Converting Date and time into Datetime format for better understanding \n",
    "\n",
    "from datetime import datetime\n",
    "\n",
    "df[\"Delivered Date\"] = df[\"Delivered Date\"].apply(lambda x: \"\" if x==\" \" else x)\n",
    "df[\"Last Updated On Date\"] = df[\"Last Updated On Date\"].apply(lambda x: \"\" if x==\" \" else x)\n",
    "\n",
    "df[\"Delivered Time\"] = df[\"Delivered Time\"].apply(lambda x: \"\" if x==\" \" else x)\n",
    "df[\"Last Updated On Time\"] = df[\"Last Updated On Time\"].apply(lambda x: \"\" if x==\" \" else x)\n",
    "\n",
    "df[df[\"Delivered Date\"] != \"\"][\"Delivered Date\"] = df[df[\"Delivered Date\"] != \"\"][\"Delivered Date\"].apply(lambda x : datetime.strptime(x,'%d-%m-%Y'))\n",
    "df[\"Delivered Date\"] = pd.to_datetime(df[\"Delivered Date\"])\n",
    "df[df[\"Last Updated On Date\"] != \"\"][\"Last Updated On Date\"]= df[df[\"Last Updated On Date\"] != \"\"][\"Last Updated On Date\"].apply(lambda x : datetime.strptime(x,'%d-%m-%Y'))\n",
    "df[\"Last Updated On Date\"] = pd.to_datetime(df[\"Last Updated On Date\"])\n",
    "\n",
    "df[df[\"Delivered Time\"] != \"\"][\"Delivered Time\"] = df[df[\"Delivered Time\"] != \"\"][\"Delivered Time\"].apply(lambda x : datetime.strptime(x,'%H:%M:%S'))\n",
    "df[\"Delivered Time\"] = pd.to_datetime(df[\"Delivered Time\"])\n",
    "df[df[\"Last Updated On Time\"] != \"\"][\"Last Updated On Time\"]= df[df[\"Last Updated On Time\"] != \"\"][\"Last Updated On Time\"].apply(lambda x : datetime.strptime(x,'%H:%M:%S'))\n",
    "df[\"Last Updated On Time\"] = pd.to_datetime(df[\"Last Updated On Time\"])\n",
    "\n",
    "\n"
   ]
  },
  {
   "cell_type": "markdown",
   "metadata": {},
   "source": [
    "### After cleaning the dataset, we will proceed with analysing individual variables."
   ]
  },
  {
   "cell_type": "code",
   "execution_count": 12,
   "metadata": {
    "scrolled": false
   },
   "outputs": [
    {
     "name": "stdout",
     "output_type": "stream",
     "text": [
      "<class 'pandas.core.frame.DataFrame'>\n",
      "RangeIndex: 97843 entries, 0 to 97842\n",
      "Data columns (total 22 columns):\n",
      " #   Column                Non-Null Count  Dtype         \n",
      "---  ------                --------------  -----         \n",
      " 0   Shipment Type         97843 non-null  object        \n",
      " 1   No of Box             97843 non-null  int64         \n",
      " 2   Weight                97843 non-null  float64       \n",
      " 3   Declared Amount       97843 non-null  float64       \n",
      " 4   COD Amount            97843 non-null  float64       \n",
      " 5   Item Description      97843 non-null  object        \n",
      " 6   Origin                97843 non-null  object        \n",
      " 7   Destination           97843 non-null  object        \n",
      " 8   Vendor                97843 non-null  object        \n",
      " 9   Shipper               97843 non-null  object        \n",
      " 10  Pickup Address        97843 non-null  object        \n",
      " 11  Pickup Pincode        97843 non-null  object        \n",
      " 12  Destination Pincode   97843 non-null  int64         \n",
      " 13  Inscan Date           97843 non-null  object        \n",
      " 14  Inscan Time           97843 non-null  object        \n",
      " 15  Last Scan Location    97843 non-null  object        \n",
      " 16  Status                97843 non-null  object        \n",
      " 17  Reason                97843 non-null  object        \n",
      " 18  Delivered Date        94411 non-null  datetime64[ns]\n",
      " 19  Delivered Time        94411 non-null  datetime64[ns]\n",
      " 20  Last Updated On Date  97843 non-null  datetime64[ns]\n",
      " 21  Last Updated On Time  97843 non-null  datetime64[ns]\n",
      "dtypes: datetime64[ns](4), float64(3), int64(2), object(13)\n",
      "memory usage: 16.4+ MB\n"
     ]
    }
   ],
   "source": [
    "df.info()"
   ]
  },
  {
   "cell_type": "markdown",
   "metadata": {},
   "source": [
    "### Shipment Type"
   ]
  },
  {
   "cell_type": "code",
   "execution_count": 13,
   "metadata": {},
   "outputs": [
    {
     "data": {
      "image/png": "[encoded data removed]",
      "text/plain": [
       "<Figure size 432x288 with 1 Axes>"
      ]
     },
     "metadata": {},
     "output_type": "display_data"
    }
   ],
   "source": [
    "sns.countplot(df[\"Shipment Type\"])\n",
    "plt.title(\"Shipment Type\",fontsize = 15)\n",
    "xlocs, xlabs = plt.xticks()\n",
    "for i, v in enumerate(df[\"Shipment Type\"].value_counts().values):\n",
    "    plt.text(xlocs[i] - 0.25, v + 0.01, str(v))\n",
    "plt.show()"
   ]
  },
  {
   "cell_type": "code",
   "execution_count": 14,
   "metadata": {
    "scrolled": true
   },
   "outputs": [
    {
     "data": {
      "image/png": "[encoded data removed]",
      "text/plain": [
       "<Figure size 1440x432 with 2 Axes>"
      ]
     },
     "metadata": {},
     "output_type": "display_data"
    }
   ],
   "source": [
    "plt.figure(figsize=(20,6))\n",
    "plt.subplot(1,2,1)\n",
    "v = df[df[\"Shipment Type\"] == \"RTS Shipment\"][\"Vendor\"].value_counts().sort_values(ascending=False)\n",
    "v = v.reset_index()\n",
    "v.columns = [\"Vendor\", \"RTS Count\"]\n",
    "sns.barplot(data=v,x=\"Vendor\",y=\"RTS Count\")\n",
    "xlocs, xlabs = plt.xticks()\n",
    "for i, v in enumerate(v[\"RTS Count\"]):\n",
    "    plt.text(xlocs[i] - 0.25, v + 0.01, str(v))\n",
    "plt.xticks(rotation=90)\n",
    "plt.title(\"RTS count of Clients\", fontsize=15)\n",
    "plt.xlabel(\"Vendor\",fontsize=10)\n",
    "plt.ylabel(\"RTS Count\", fontsize=10)\n",
    "plt.subplot(1,2,2)\n",
    "v = df[df[\"Shipment Type\"] == \"Forward Shipment\"][\"Vendor\"].value_counts().sort_values(ascending=False)\n",
    "v = v.reset_index()\n",
    "v.columns = [\"Vendor\", \"FS Count\"]\n",
    "sns.barplot(data=v,x=\"Vendor\",y=\"FS Count\")\n",
    "xlocs, xlabs = plt.xticks()\n",
    "for i, v in enumerate(v[\"FS Count\"]):\n",
    "    plt.text(xlocs[i] - 0.25, v + 0.01, str(v))\n",
    "plt.xticks(rotation=90)\n",
    "plt.title(\"FS count of Clients\", fontsize=15)\n",
    "plt.xlabel(\"Vendor\",fontsize=10)\n",
    "plt.ylabel(\"FS Count\", fontsize=10)\n",
    "plt.show()\n"
   ]
  },
  {
   "cell_type": "markdown",
   "metadata": {},
   "source": [
    "- AMWAY INDIA got us most business in case of Forward Shipments and Koovs in case of RTS.\n",
    "- VLCC has more RTS than FS.\n",
    "- Major Client base - AMWAY,Oriflame,Avon,Clovia,Koovs and Modicare"
   ]
  },
  {
   "cell_type": "markdown",
   "metadata": {},
   "source": [
    "### Declared Amount vs COD"
   ]
  },
  {
   "cell_type": "code",
   "execution_count": 15,
   "metadata": {},
   "outputs": [
    {
     "data": {
      "text/plain": [
       "count     97843.000000\n",
       "mean        449.926629\n",
       "std        3426.218233\n",
       "min      -15942.000000\n",
       "25%           0.000000\n",
       "50%           0.000000\n",
       "75%           0.000000\n",
       "max      766500.000000\n",
       "dtype: float64"
      ]
     },
     "execution_count": 15,
     "metadata": {},
     "output_type": "execute_result"
    }
   ],
   "source": [
    "(df[\"Declared Amount\"]-df[\"COD Amount\"]).describe()"
   ]
  },
  {
   "cell_type": "markdown",
   "metadata": {},
   "source": [
    "### No of Box"
   ]
  },
  {
   "cell_type": "code",
   "execution_count": 16,
   "metadata": {},
   "outputs": [
    {
     "data": {
      "text/html": [
       "<div>\n",
       "<style scoped>\n",
       "    .dataframe tbody tr th:only-of-type {\n",
       "        vertical-align: middle;\n",
       "    }\n",
       "\n",
       "    .dataframe tbody tr th {\n",
       "        vertical-align: top;\n",
       "    }\n",
       "\n",
       "    .dataframe thead th {\n",
       "        text-align: right;\n",
       "    }\n",
       "</style>\n",
       "<table border=\"1\" class=\"dataframe\">\n",
       "  <thead>\n",
       "    <tr style=\"text-align: right;\">\n",
       "      <th></th>\n",
       "      <th>No_of_Box</th>\n",
       "      <th>frequency</th>\n",
       "      <th>probability</th>\n",
       "    </tr>\n",
       "  </thead>\n",
       "  <tbody>\n",
       "    <tr>\n",
       "      <th>0</th>\n",
       "      <td>1</td>\n",
       "      <td>89030</td>\n",
       "      <td>90.993</td>\n",
       "    </tr>\n",
       "    <tr>\n",
       "      <th>1</th>\n",
       "      <td>2</td>\n",
       "      <td>4787</td>\n",
       "      <td>4.893</td>\n",
       "    </tr>\n",
       "    <tr>\n",
       "      <th>2</th>\n",
       "      <td>3</td>\n",
       "      <td>1351</td>\n",
       "      <td>1.381</td>\n",
       "    </tr>\n",
       "    <tr>\n",
       "      <th>3</th>\n",
       "      <td>4</td>\n",
       "      <td>702</td>\n",
       "      <td>0.717</td>\n",
       "    </tr>\n",
       "    <tr>\n",
       "      <th>4</th>\n",
       "      <td>5</td>\n",
       "      <td>499</td>\n",
       "      <td>0.510</td>\n",
       "    </tr>\n",
       "    <tr>\n",
       "      <th>5</th>\n",
       "      <td>6</td>\n",
       "      <td>385</td>\n",
       "      <td>0.393</td>\n",
       "    </tr>\n",
       "    <tr>\n",
       "      <th>6</th>\n",
       "      <td>7</td>\n",
       "      <td>290</td>\n",
       "      <td>0.296</td>\n",
       "    </tr>\n",
       "    <tr>\n",
       "      <th>7</th>\n",
       "      <td>8</td>\n",
       "      <td>191</td>\n",
       "      <td>0.195</td>\n",
       "    </tr>\n",
       "    <tr>\n",
       "      <th>8</th>\n",
       "      <td>9</td>\n",
       "      <td>155</td>\n",
       "      <td>0.158</td>\n",
       "    </tr>\n",
       "    <tr>\n",
       "      <th>9</th>\n",
       "      <td>10</td>\n",
       "      <td>113</td>\n",
       "      <td>0.115</td>\n",
       "    </tr>\n",
       "    <tr>\n",
       "      <th>10</th>\n",
       "      <td>11</td>\n",
       "      <td>83</td>\n",
       "      <td>0.085</td>\n",
       "    </tr>\n",
       "    <tr>\n",
       "      <th>11</th>\n",
       "      <td>12</td>\n",
       "      <td>62</td>\n",
       "      <td>0.063</td>\n",
       "    </tr>\n",
       "    <tr>\n",
       "      <th>12</th>\n",
       "      <td>13</td>\n",
       "      <td>36</td>\n",
       "      <td>0.037</td>\n",
       "    </tr>\n",
       "    <tr>\n",
       "      <th>13</th>\n",
       "      <td>14</td>\n",
       "      <td>26</td>\n",
       "      <td>0.027</td>\n",
       "    </tr>\n",
       "    <tr>\n",
       "      <th>14</th>\n",
       "      <td>15</td>\n",
       "      <td>20</td>\n",
       "      <td>0.020</td>\n",
       "    </tr>\n",
       "    <tr>\n",
       "      <th>15</th>\n",
       "      <td>16</td>\n",
       "      <td>19</td>\n",
       "      <td>0.019</td>\n",
       "    </tr>\n",
       "    <tr>\n",
       "      <th>16</th>\n",
       "      <td>17</td>\n",
       "      <td>13</td>\n",
       "      <td>0.013</td>\n",
       "    </tr>\n",
       "    <tr>\n",
       "      <th>17</th>\n",
       "      <td>20</td>\n",
       "      <td>12</td>\n",
       "      <td>0.012</td>\n",
       "    </tr>\n",
       "    <tr>\n",
       "      <th>18</th>\n",
       "      <td>18</td>\n",
       "      <td>11</td>\n",
       "      <td>0.011</td>\n",
       "    </tr>\n",
       "    <tr>\n",
       "      <th>19</th>\n",
       "      <td>21</td>\n",
       "      <td>8</td>\n",
       "      <td>0.008</td>\n",
       "    </tr>\n",
       "    <tr>\n",
       "      <th>20</th>\n",
       "      <td>19</td>\n",
       "      <td>8</td>\n",
       "      <td>0.008</td>\n",
       "    </tr>\n",
       "    <tr>\n",
       "      <th>21</th>\n",
       "      <td>23</td>\n",
       "      <td>7</td>\n",
       "      <td>0.007</td>\n",
       "    </tr>\n",
       "    <tr>\n",
       "      <th>22</th>\n",
       "      <td>31</td>\n",
       "      <td>4</td>\n",
       "      <td>0.004</td>\n",
       "    </tr>\n",
       "    <tr>\n",
       "      <th>23</th>\n",
       "      <td>29</td>\n",
       "      <td>3</td>\n",
       "      <td>0.003</td>\n",
       "    </tr>\n",
       "    <tr>\n",
       "      <th>24</th>\n",
       "      <td>41</td>\n",
       "      <td>3</td>\n",
       "      <td>0.003</td>\n",
       "    </tr>\n",
       "    <tr>\n",
       "      <th>25</th>\n",
       "      <td>24</td>\n",
       "      <td>3</td>\n",
       "      <td>0.003</td>\n",
       "    </tr>\n",
       "    <tr>\n",
       "      <th>26</th>\n",
       "      <td>34</td>\n",
       "      <td>3</td>\n",
       "      <td>0.003</td>\n",
       "    </tr>\n",
       "    <tr>\n",
       "      <th>27</th>\n",
       "      <td>27</td>\n",
       "      <td>3</td>\n",
       "      <td>0.003</td>\n",
       "    </tr>\n",
       "    <tr>\n",
       "      <th>28</th>\n",
       "      <td>22</td>\n",
       "      <td>2</td>\n",
       "      <td>0.002</td>\n",
       "    </tr>\n",
       "    <tr>\n",
       "      <th>29</th>\n",
       "      <td>28</td>\n",
       "      <td>2</td>\n",
       "      <td>0.002</td>\n",
       "    </tr>\n",
       "    <tr>\n",
       "      <th>30</th>\n",
       "      <td>25</td>\n",
       "      <td>2</td>\n",
       "      <td>0.002</td>\n",
       "    </tr>\n",
       "    <tr>\n",
       "      <th>31</th>\n",
       "      <td>30</td>\n",
       "      <td>1</td>\n",
       "      <td>0.001</td>\n",
       "    </tr>\n",
       "    <tr>\n",
       "      <th>32</th>\n",
       "      <td>26</td>\n",
       "      <td>1</td>\n",
       "      <td>0.001</td>\n",
       "    </tr>\n",
       "    <tr>\n",
       "      <th>33</th>\n",
       "      <td>32</td>\n",
       "      <td>1</td>\n",
       "      <td>0.001</td>\n",
       "    </tr>\n",
       "    <tr>\n",
       "      <th>34</th>\n",
       "      <td>33</td>\n",
       "      <td>1</td>\n",
       "      <td>0.001</td>\n",
       "    </tr>\n",
       "    <tr>\n",
       "      <th>35</th>\n",
       "      <td>35</td>\n",
       "      <td>1</td>\n",
       "      <td>0.001</td>\n",
       "    </tr>\n",
       "    <tr>\n",
       "      <th>36</th>\n",
       "      <td>54</td>\n",
       "      <td>1</td>\n",
       "      <td>0.001</td>\n",
       "    </tr>\n",
       "    <tr>\n",
       "      <th>37</th>\n",
       "      <td>44</td>\n",
       "      <td>1</td>\n",
       "      <td>0.001</td>\n",
       "    </tr>\n",
       "    <tr>\n",
       "      <th>38</th>\n",
       "      <td>66</td>\n",
       "      <td>1</td>\n",
       "      <td>0.001</td>\n",
       "    </tr>\n",
       "    <tr>\n",
       "      <th>39</th>\n",
       "      <td>45</td>\n",
       "      <td>1</td>\n",
       "      <td>0.001</td>\n",
       "    </tr>\n",
       "    <tr>\n",
       "      <th>40</th>\n",
       "      <td>56</td>\n",
       "      <td>1</td>\n",
       "      <td>0.001</td>\n",
       "    </tr>\n",
       "  </tbody>\n",
       "</table>\n",
       "</div>"
      ],
      "text/plain": [
       "    No_of_Box  frequency  probability\n",
       "0           1      89030       90.993\n",
       "1           2       4787        4.893\n",
       "2           3       1351        1.381\n",
       "3           4        702        0.717\n",
       "4           5        499        0.510\n",
       "5           6        385        0.393\n",
       "6           7        290        0.296\n",
       "7           8        191        0.195\n",
       "8           9        155        0.158\n",
       "9          10        113        0.115\n",
       "10         11         83        0.085\n",
       "11         12         62        0.063\n",
       "12         13         36        0.037\n",
       "13         14         26        0.027\n",
       "14         15         20        0.020\n",
       "15         16         19        0.019\n",
       "16         17         13        0.013\n",
       "17         20         12        0.012\n",
       "18         18         11        0.011\n",
       "19         21          8        0.008\n",
       "20         19          8        0.008\n",
       "21         23          7        0.007\n",
       "22         31          4        0.004\n",
       "23         29          3        0.003\n",
       "24         41          3        0.003\n",
       "25         24          3        0.003\n",
       "26         34          3        0.003\n",
       "27         27          3        0.003\n",
       "28         22          2        0.002\n",
       "29         28          2        0.002\n",
       "30         25          2        0.002\n",
       "31         30          1        0.001\n",
       "32         26          1        0.001\n",
       "33         32          1        0.001\n",
       "34         33          1        0.001\n",
       "35         35          1        0.001\n",
       "36         54          1        0.001\n",
       "37         44          1        0.001\n",
       "38         66          1        0.001\n",
       "39         45          1        0.001\n",
       "40         56          1        0.001"
      ]
     },
     "execution_count": 16,
     "metadata": {},
     "output_type": "execute_result"
    }
   ],
   "source": [
    "# no_of_box\n",
    "no_of_boxes = df[\"No of Box\"].value_counts().reset_index()\n",
    "no_of_boxes.columns = [\"No_of_Box\", \"frequency\"]\n",
    "no_of_boxes.sort_values(\"No_of_Box\")\n",
    "no_of_boxes[\"probability\"] = round(no_of_boxes[\"frequency\"]/df.shape[0]*100,3)\n",
    "no_of_boxes"
   ]
  },
  {
   "cell_type": "code",
   "execution_count": 17,
   "metadata": {},
   "outputs": [],
   "source": [
    "# Feature Engineering\n",
    "def clubbing(x):\n",
    "    if x==1:\n",
    "        return x \n",
    "    elif x in range(2,6):\n",
    "        return \"2-5\"\n",
    "    elif x in range(6,21):\n",
    "        return \"6-20\"\n",
    "    else:\n",
    "        return \">20\"\n",
    "        \n",
    "        \n",
    "    \n",
    "df[\"boxes\"] = df[\"No of Box\"].apply(clubbing)"
   ]
  },
  {
   "cell_type": "code",
   "execution_count": 18,
   "metadata": {},
   "outputs": [
    {
     "data": {
      "text/plain": [
       "1       89030\n",
       "2-5      7339\n",
       "6-20     1424\n",
       ">20        50\n",
       "Name: boxes, dtype: int64"
      ]
     },
     "execution_count": 18,
     "metadata": {},
     "output_type": "execute_result"
    }
   ],
   "source": [
    "df[\"boxes\"].value_counts() "
   ]
  },
  {
   "cell_type": "code",
   "execution_count": 19,
   "metadata": {},
   "outputs": [
    {
     "data": {
      "text/plain": [
       "<matplotlib.axes._subplots.AxesSubplot at 0x1f8e6c23430>"
      ]
     },
     "execution_count": 19,
     "metadata": {},
     "output_type": "execute_result"
    },
    {
     "data": {
      "image/png": "[encoded data removed]",
      "text/plain": [
       "<Figure size 720x360 with 2 Axes>"
      ]
     },
     "metadata": {},
     "output_type": "display_data"
    }
   ],
   "source": [
    "plt.figure(figsize=(10,5))\n",
    "plt.subplot(1,2,1)\n",
    "sns.countplot(df[\"boxes\"])\n",
    "plt.subplot(1,2,2)\n",
    "sns.boxplot(y=df[\"Weight\"], x=df[\"boxes\"],palette=\"pastel\")"
   ]
  },
  {
   "cell_type": "code",
   "execution_count": 20,
   "metadata": {},
   "outputs": [
    {
     "data": {
      "text/html": [
       "<div>\n",
       "<style scoped>\n",
       "    .dataframe tbody tr th:only-of-type {\n",
       "        vertical-align: middle;\n",
       "    }\n",
       "\n",
       "    .dataframe tbody tr th {\n",
       "        vertical-align: top;\n",
       "    }\n",
       "\n",
       "    .dataframe thead th {\n",
       "        text-align: right;\n",
       "    }\n",
       "</style>\n",
       "<table border=\"1\" class=\"dataframe\">\n",
       "  <thead>\n",
       "    <tr style=\"text-align: right;\">\n",
       "      <th></th>\n",
       "      <th>No of Box</th>\n",
       "      <th>Weight</th>\n",
       "    </tr>\n",
       "  </thead>\n",
       "  <tbody>\n",
       "    <tr>\n",
       "      <th>No of Box</th>\n",
       "      <td>1.00000</td>\n",
       "      <td>0.81158</td>\n",
       "    </tr>\n",
       "    <tr>\n",
       "      <th>Weight</th>\n",
       "      <td>0.81158</td>\n",
       "      <td>1.00000</td>\n",
       "    </tr>\n",
       "  </tbody>\n",
       "</table>\n",
       "</div>"
      ],
      "text/plain": [
       "           No of Box   Weight\n",
       "No of Box    1.00000  0.81158\n",
       "Weight       0.81158  1.00000"
      ]
     },
     "execution_count": 20,
     "metadata": {},
     "output_type": "execute_result"
    }
   ],
   "source": [
    "# checking correlation between no_of_boxes and weight\n",
    "df[[\"No of Box\",\"Weight\"]].corr()"
   ]
  },
  {
   "cell_type": "markdown",
   "metadata": {},
   "source": [
    "#### It was expected that weight shall increase with increase in boxes. Which is observed here as well. So we can say that our data is corrected tabulated. there are no discrepancies."
   ]
  },
  {
   "cell_type": "markdown",
   "metadata": {},
   "source": [
    "### Origin - Destination"
   ]
  },
  {
   "cell_type": "code",
   "execution_count": 21,
   "metadata": {},
   "outputs": [
    {
     "data": {
      "text/plain": [
       "MPP - Mahipalpur                  18619\n",
       "THN - Thane                       11173\n",
       "DWK - Dwarka Puri DC              10729\n",
       "KDC - Kudghat                      7859\n",
       "ADR - Andheri-Mumbai               6117\n",
       "MHD - Mahadevpura                  5594\n",
       "HWR - Kolkata-Howrah               5166\n",
       "PCV - Pawan Courier Virtual        3976\n",
       "SLK - Kolkata -Salt Lake           3887\n",
       "JNG - Jai Nagar                    3612\n",
       "AMB - Ahmedabad                    3595\n",
       "CSO - Chennai South                2903\n",
       "CHD - Chandigarh                   2263\n",
       "JGP - Jagat Puri DC                2087\n",
       "BBRH - Bhubaneswar                 1605\n",
       "GGN - Gurgaon                      1539\n",
       "NOI - Noida                        1475\n",
       "GUW - Guwahati DC                  1367\n",
       "VRN - Varanasi DC                  1265\n",
       "PTNH - Patna                       1057\n",
       "MPPH - Mahipalpur HUB               921\n",
       "RHN - Shastri Nagar DC              101\n",
       "YWN - Yashwantpura                   97\n",
       "PTN - Patna                          75\n",
       "SJV - SJ Courier BLR                 71\n",
       "LKO - Lucknow-DC                     63\n",
       "LDH - Ludhiana                       59\n",
       "MRC - Kolkata-Central                59\n",
       "LRP - Lower Parel                    50\n",
       "THNV - Thane Virtual                 47\n",
       "BIRD - Bhiwandi HUB                  45\n",
       "KDV - Kandivali                      37\n",
       "VIK - Vikhroli                       35\n",
       "SPD - Sanpada                        32\n",
       "SOD - Sodepur                        32\n",
       "VIR - Virar                          28\n",
       "KLN - Kalyan DC                      23\n",
       "FBD - Faridabad                      22\n",
       "CNO - Chennai North                  21\n",
       "AMR - Amritsar                       20\n",
       "SXL - Six Mile (Servizi India)       18\n",
       "JLD - Jalandhar                      17\n",
       "DBR - Dibrugarh                      15\n",
       "HGL - Hooghly                        15\n",
       "JMU - Jammu                          12\n",
       "BLRDS - BLR Delta Service             9\n",
       "BBR - Bhubaneswar                     9\n",
       "KNP - Kanpur DC                       9\n",
       "VDR - Vadodara                        6\n",
       "ALL - Allahabad DC                    2\n",
       "JPR - Jaipur                          2\n",
       "SRT - Surat                           1\n",
       "SLH - Silchar                         1\n",
       "GKP - Gorakhpur-DC                    1\n",
       "Name: Origin, dtype: int64"
      ]
     },
     "execution_count": 21,
     "metadata": {},
     "output_type": "execute_result"
    }
   ],
   "source": [
    "df[\"Origin\"].value_counts()"
   ]
  },
  {
   "cell_type": "markdown",
   "metadata": {},
   "source": [
    "### Feature Engineering \n",
    " - ori_des : origin - destination\n",
    " - delivery_type : wether the delivery is inter-city or intra-city"
   ]
  },
  {
   "cell_type": "code",
   "execution_count": 22,
   "metadata": {},
   "outputs": [],
   "source": [
    "# ori_des\n",
    "def func(x):\n",
    "    for i in range(0,len(x)):\n",
    "        if x[i]== \"-\":\n",
    "            a = i\n",
    "            break\n",
    "    return(x[0:a].rstrip())    \n",
    "            \n",
    "        \n",
    "df[\"ori_des\"] = df[\"Origin\"].apply(lambda x:func(x)) + \"-\" + df[\"Destination\"].apply(lambda x:func(x))"
   ]
  },
  {
   "cell_type": "code",
   "execution_count": 23,
   "metadata": {},
   "outputs": [
    {
     "data": {
      "text/plain": [
       "MPP-MPP      4037\n",
       "THN-KLN      3086\n",
       "MPP-DWK      2995\n",
       "THN-VIR      2578\n",
       "MHD-JNG      2464\n",
       "KDC-KDC      2093\n",
       "KDC-SOD      2064\n",
       "SLK-KDC      1914\n",
       "DWK-JNG      1884\n",
       "HWR-SOD      1745\n",
       "KDC-SLK      1719\n",
       "THN-SPD      1684\n",
       "CSO-CSO      1662\n",
       "MPP-GGN      1606\n",
       "BBRH-BBR     1605\n",
       "ADR-LRP      1539\n",
       "MPP-RHN      1487\n",
       "PCV-AMB      1485\n",
       "JNG-JNG      1457\n",
       "ADR-KDV      1448\n",
       "HWR-KDC      1448\n",
       "NOI-NOI      1373\n",
       "DWK-DWK      1369\n",
       "MPP-FBD      1256\n",
       "MPP-JGP      1235\n",
       "MPP-LKO      1214\n",
       "MPP-NOI      1201\n",
       "JGP-RHN      1192\n",
       "AMB-RKTV     1188\n",
       "MHD-MHD      1181\n",
       "PCV-VDR      1179\n",
       "ADR-ADR      1177\n",
       "DWK-MHD      1153\n",
       "THN-THNV     1125\n",
       "ADR-VIK      1088\n",
       "PTNH-PTN     1057\n",
       "CSO-CNO      1042\n",
       "GGN-GGN      1033\n",
       "MHD-YWN      1006\n",
       "AMB-SRT       906\n",
       "PCV-SRT       903\n",
       "AMB-AMB       835\n",
       "JGP-JGP       821\n",
       "KDC-HWR       794\n",
       "THN-KDV       764\n",
       "THN-ADR       741\n",
       "KDC-HGL       711\n",
       "SLK-HGL       710\n",
       "HWR-SLK       685\n",
       "HWR-HGL       681\n",
       "DWK-ADR       677\n",
       "SLK-SLK       676\n",
       "MHD-SJV       651\n",
       "DWK-SJV       640\n",
       "THN-LRP       621\n",
       "DWK-YWN       613\n",
       "JNG-YWN       590\n",
       "DWK-KDV       579\n",
       "CHD-CHD       577\n",
       "GUW-SXL       575\n",
       "HWR-HWR       551\n",
       "DWK-SLK       538\n",
       "DWK-LRP       536\n",
       "ADR-THNV      519\n",
       "DWK-KDC       506\n",
       "AMB-VDR       502\n",
       "DWK-VIK       485\n",
       "JNG-SJV       475\n",
       "GUW-GUW       470\n",
       "GGN-FBD       447\n",
       "CHD-JMU       431\n",
       "THN-VIK       429\n",
       "VRN-ALL       411\n",
       "PCV-VLD       409\n",
       "KDC-MRC       394\n",
       "JNG-MHD       381\n",
       "CHD-AMR       381\n",
       "DWK-THNV      371\n",
       "MPP-ADR       370\n",
       "MPP-HRNV      370\n",
       "VRN-VRN       343\n",
       "CHD-JLD       329\n",
       "VRN-KNP       312\n",
       "MPPH-MPP      307\n",
       "CHD-LDH       298\n",
       "JNG-CNO       297\n",
       "MPP-JMU       291\n",
       "MPP-KNP       277\n",
       "JNG-CSO       253\n",
       "SLK-HWR       252\n",
       "CHD-PTL       247\n",
       "DWK-PTN       235\n",
       "DWK-MRC       230\n",
       "MPP-KDC       215\n",
       "MPP-SLK       206\n",
       "MPP-SJV       201\n",
       "MPP-MHD       200\n",
       "SLK-MRC       199\n",
       "VRN-GKP       193\n",
       "CSO-TDC       190\n",
       "MPP-VRN       186\n",
       "DWK-MPP       180\n",
       "MPP-MRC       164\n",
       "AMB-VLD       164\n",
       "MPP-ALL       155\n",
       "MPP-VIK       147\n",
       "DWK-VIR       143\n",
       "DWK-SPD       141\n",
       "GUW-SLH       141\n",
       "MPPH-DWK      141\n",
       "MPP-LRP       131\n",
       "THN-THN       130\n",
       "MPPH-NOI      127\n",
       "MPPH-GGN      119\n",
       "ADR-THN       118\n",
       "DWK-HWR       114\n",
       "GUW-DBR       112\n",
       "ADR-VIR       101\n",
       "MPP-JNG       100\n",
       "MPP-MPPH       99\n",
       "NOI-MPP        97\n",
       "MPP-KDV        96\n",
       "MPPH-JGP       95\n",
       "MPPH-RHN       89\n",
       "RHN-MPP        85\n",
       "MPP-YWN        85\n",
       "JNG-DWK        85\n",
       "DWK-BLRDS      82\n",
       "MHD-CNO        75\n",
       "MPP-SRT        68\n",
       "MPP-THNV       67\n",
       "MPP-PTN        67\n",
       "GUW-MLGS       65\n",
       "ADR-SPD        64\n",
       "LKO-MPP        63\n",
       "DWK-GGN        63\n",
       "KDC-MPP        62\n",
       "MHD-CSO        60\n",
       "MHD-DWK        57\n",
       "SLK-MPP        56\n",
       "LDH-LDH        54\n",
       "MHD-MPP        52\n",
       "JGP-MPP        52\n",
       "MPP-KLN        48\n",
       "DWK-THN        48\n",
       "HWR-MRC        46\n",
       "JNG-BLRDS      45\n",
       "SLK-SOD        44\n",
       "DWK-NOI        44\n",
       "MRC-MPP        43\n",
       "GGN-MPP        42\n",
       "MHD-BLRDS      38\n",
       "SJV-MPP        36\n",
       "SLK-DWK        36\n",
       "PTN-DWK        33\n",
       "ADR-MPP        33\n",
       "DWK-RHN        33\n",
       "MPPH-FBD       33\n",
       "BIRD-THN       32\n",
       "SOD-KDC        30\n",
       "ADR-DWK        29\n",
       "YWN-DWK        29\n",
       "JNG-MPP        28\n",
       "PTN-PTN        28\n",
       "MPP-BLRDS      27\n",
       "VIR-THN        26\n",
       "DWK-MPPH       25\n",
       "DWK-JGP        25\n",
       "YWN-JNG        23\n",
       "LRP-MPP        23\n",
       "SPD-THN        22\n",
       "KDC-DWK        22\n",
       "SJV-DWK        21\n",
       "FBD-MPP        20\n",
       "THNV-DWK       19\n",
       "YWN-MPP        18\n",
       "SXL-GUW        18\n",
       "AMR-CHD        16\n",
       "LRP-DWK        16\n",
       "JGP-DWK        15\n",
       "KLN-THN        15\n",
       "THNV-MPP       15\n",
       "DBR-GUW        15\n",
       "VIK-MPP        14\n",
       "MPP-GKP        13\n",
       "THNV-THN       12\n",
       "YWN-MHD        12\n",
       "BIRD-LRP       12\n",
       "JLD-LDH        12\n",
       "PTN-MPP        12\n",
       "GGN-MPPH       11\n",
       "JMU-LDH        11\n",
       "VIK-DWK        11\n",
       "KDV-DWK        11\n",
       "MHD-TDC        10\n",
       "THN-VDR        10\n",
       "KDV-THN         9\n",
       "SPD-DWK         9\n",
       "VIK-ADR         9\n",
       "KDV-MPP         9\n",
       "HGL-KDC         9\n",
       "KDV-ADR         8\n",
       "KNP-MPP         8\n",
       "KLN-MPP         8\n",
       "RHN-JGP         8\n",
       "MRC-DWK         8\n",
       "YWN-SJV         7\n",
       "LRP-ADR         7\n",
       "CNO-CSO         7\n",
       "CNO-CSOH        7\n",
       "JGP-MPPH        7\n",
       "DWK-FBD         7\n",
       "MPPH-MPPH       7\n",
       "YWN-BLRDS       6\n",
       "DWK-KLN         6\n",
       "SJV-MHD         6\n",
       "HWR-DWK         6\n",
       "MRC-KDC         6\n",
       "SJV-JNG         6\n",
       "CSO-JNG         6\n",
       "RHN-MPPH        6\n",
       "VRN-MPP         6\n",
       "GGN-DWK         6\n",
       "BBR-BBRH        6\n",
       "NOI-MPPH        5\n",
       "THN-DWK         5\n",
       "JLD-CHD         5\n",
       "HWR-MPP         4\n",
       "BLRDS-DWK       4\n",
       "LDH-JLD         4\n",
       "GUW-GUWH        4\n",
       "AMR-LDH         4\n",
       "LRP-THN         4\n",
       "BLRDS-MPP       3\n",
       "VDR-AMBV        3\n",
       "MPP-HWR         3\n",
       "CSO-MHD         3\n",
       "CNO-CNO         3\n",
       "HGL-HWR         3\n",
       "CNO-MHD         3\n",
       "VDR-PCV         2\n",
       "PTN-PTNH        2\n",
       "JPR-JPR         2\n",
       "VIR-DWK         2\n",
       "BLRDS-JNG       2\n",
       "BBR-SLK         2\n",
       "HGL-SLK         2\n",
       "MRC-SLK         2\n",
       "MPPH-THNV       2\n",
       "YWN-YWN         2\n",
       "ALL-MPP         2\n",
       "FBD-GGN         1\n",
       "LDH-CHD         1\n",
       "KNP-VRN         1\n",
       "SOD-MPP         1\n",
       "SLH-SLH         1\n",
       "GKP-MPP         1\n",
       "MPP-VIR         1\n",
       "ADR-KLN         1\n",
       "DWK-LKO         1\n",
       "VIK-THN         1\n",
       "MPPH-THN        1\n",
       "CNO-JNG         1\n",
       "SJV-BLRDS       1\n",
       "JMU-CHD         1\n",
       "VDR-VDR         1\n",
       "BBR-SOD         1\n",
       "SOD-HWR         1\n",
       "THNV-ADR        1\n",
       "SJV-YWN         1\n",
       "BIRD-BIRD       1\n",
       "RHN-RHN         1\n",
       "DWK-SOD         1\n",
       "MPP-SPD         1\n",
       "JNG-TDC         1\n",
       "HGL-MPP         1\n",
       "RHN-FBD         1\n",
       "FBD-MPPH        1\n",
       "SPD-MPP         1\n",
       "SRT-PCV         1\n",
       "Name: ori_des, dtype: int64"
      ]
     },
     "execution_count": 23,
     "metadata": {},
     "output_type": "execute_result"
    }
   ],
   "source": [
    "df[\"ori_des\"].value_counts()"
   ]
  },
  {
   "cell_type": "code",
   "execution_count": 24,
   "metadata": {},
   "outputs": [],
   "source": [
    "# delivery_type\n",
    "df[\"delivery_type\"] = df[\"ori_des\"].apply(lambda x: \"inter-city\" if x[0:(x.find(\"-\"))] != x[(x.find(\"-\")+1):] \n",
    "                                          else \"intra-city\" )"
   ]
  },
  {
   "cell_type": "code",
   "execution_count": 25,
   "metadata": {
    "scrolled": false
   },
   "outputs": [
    {
     "data": {
      "text/plain": [
       "inter-city    79.676625\n",
       "intra-city    20.323375\n",
       "Name: delivery_type, dtype: float64"
      ]
     },
     "execution_count": 25,
     "metadata": {},
     "output_type": "execute_result"
    }
   ],
   "source": [
    "df[\"delivery_type\"].value_counts(normalize=True)*100"
   ]
  },
  {
   "cell_type": "markdown",
   "metadata": {},
   "source": [
    "#### `Approximately 80% of our business involves inter-city deliveries.`"
   ]
  },
  {
   "cell_type": "code",
   "execution_count": 26,
   "metadata": {
    "scrolled": true
   },
   "outputs": [
    {
     "data": {
      "image/png": "[encoded data removed]",
      "text/plain": [
       "<Figure size 1440x432 with 2 Axes>"
      ]
     },
     "metadata": {},
     "output_type": "display_data"
    }
   ],
   "source": [
    "# delivery_type vs Vendors\n",
    "\n",
    "plt.figure(figsize=(20,6))\n",
    "plt.subplot(1,2,1)\n",
    "v = df[df[\"delivery_type\"] == \"inter-city\"][\"Vendor\"].value_counts().sort_values(ascending=False)\n",
    "v = v.reset_index()\n",
    "v.columns = [\"Vendor\", \"inter-city Count\"]\n",
    "sns.barplot(data=v,x=\"Vendor\",y=\"inter-city Count\")\n",
    "xlocs, xlabs = plt.xticks()\n",
    "for i, v in enumerate(v[\"inter-city Count\"]):\n",
    "    plt.text(xlocs[i] - 0.25, v + 0.01, str(v))\n",
    "plt.xticks(rotation=90)\n",
    "plt.title(\"Count of inter-city Deliveries vs Clients\", fontsize=15)\n",
    "plt.xlabel(\"Vendor\",fontsize=10)\n",
    "plt.ylabel(\"inter-city Count\", fontsize=10)\n",
    "plt.subplot(1,2,2)\n",
    "v = df[df[\"delivery_type\"] == \"intra-city\"][\"Vendor\"].value_counts().sort_values(ascending=False)\n",
    "v = v.reset_index()\n",
    "v.columns = [\"Vendor\", \"intra-city Count\"]\n",
    "sns.barplot(data=v,x=\"Vendor\",y=\"intra-city Count\")\n",
    "xlocs, xlabs = plt.xticks()\n",
    "for i, v in enumerate(v[\"intra-city Count\"]):\n",
    "    plt.text(xlocs[i] - 0.25, v + 0.01, str(v))\n",
    "plt.xticks(rotation=90)\n",
    "plt.title(\"Count of intra-city Deliveries vs Clients\", fontsize=15)\n",
    "plt.xlabel(\"Vendor\",fontsize=10)\n",
    "plt.ylabel(\"intra-city Count\", fontsize=10)\n",
    "plt.show()\n"
   ]
  },
  {
   "cell_type": "markdown",
   "metadata": {},
   "source": [
    "`We see a similar kind of pattern in both the graphs wrt Vendors. However, There are more inter-city Deliveries required as compared to intra-city for all the clients.`"
   ]
  },
  {
   "cell_type": "markdown",
   "metadata": {},
   "source": [
    "### Delivery type vs Delivery status"
   ]
  },
  {
   "cell_type": "code",
   "execution_count": 27,
   "metadata": {
    "scrolled": false
   },
   "outputs": [
    {
     "data": {
      "text/plain": [
       "Delivered                           96.164601\n",
       "Undelivered                          2.500064\n",
       "Out for delivery                     0.365581\n",
       "Shipment included in bag             0.343775\n",
       "Redirected Shipment                  0.266810\n",
       "Inscan At DC                         0.189846\n",
       "Bag inscanned at DC                  0.168039\n",
       "Shipment picked up and inscanned     0.001283\n",
       "Name: Status, dtype: float64"
      ]
     },
     "execution_count": 27,
     "metadata": {},
     "output_type": "execute_result"
    }
   ],
   "source": [
    "df[df[\"delivery_type\"]==\"inter-city\"][\"Status\"].value_counts(normalize=True)*100"
   ]
  },
  {
   "cell_type": "code",
   "execution_count": 28,
   "metadata": {
    "scrolled": true
   },
   "outputs": [
    {
     "data": {
      "text/plain": [
       "Delivered                   97.822479\n",
       "Undelivered                  1.694745\n",
       "Inscan At DC                 0.241388\n",
       "Out for delivery             0.150867\n",
       "Shipment included in bag     0.085492\n",
       "Redirected Shipment          0.005029\n",
       "Name: Status, dtype: float64"
      ]
     },
     "execution_count": 28,
     "metadata": {},
     "output_type": "execute_result"
    }
   ],
   "source": [
    "df[df[\"delivery_type\"]==\"intra-city\"][\"Status\"].value_counts(normalize=True)*100"
   ]
  },
  {
   "cell_type": "markdown",
   "metadata": {},
   "source": [
    "#### `For both inter-city and intra-city, more than 96% packages are sucessfully delivered.`"
   ]
  },
  {
   "cell_type": "markdown",
   "metadata": {},
   "source": [
    "### Vendors"
   ]
  },
  {
   "cell_type": "code",
   "execution_count": 29,
   "metadata": {
    "scrolled": true
   },
   "outputs": [
    {
     "data": {
      "text/plain": [
       "AMWAY INDIA ENTERPRISES PVT.LTD.    35.642816\n",
       "Oriflame India Private Limited      23.056325\n",
       "AVON BEAUTY PRODUCTS(               17.898061\n",
       "Clovia.Com                           9.613360\n",
       "Modicare Limited                     7.159429\n",
       "Koovs                                3.610887\n",
       "UrbanClap Technologies Pvt Ltd       1.114030\n",
       "Gonoise.com                          0.946414\n",
       "Bright lifecare Pvt. Ltd.            0.425171\n",
       "VLCC Personal Care                   0.314790\n",
       "VediCare                             0.055190\n",
       "Seniority.Com                        0.045992\n",
       "RS Seven Lifestyle Pvt. Ltd.         0.040882\n",
       "HappyhealthyMe                       0.037816\n",
       "KKrowten                             0.028617\n",
       "PINK GUPPY                           0.005110\n",
       "JOE SHU                              0.003066\n",
       "vestigebestdeals.com                 0.002044\n",
       "Name: Vendor, dtype: float64"
      ]
     },
     "execution_count": 29,
     "metadata": {},
     "output_type": "execute_result"
    }
   ],
   "source": [
    "(df[\"Vendor\"].value_counts(normalize=True)*100).sort_values(ascending=False)"
   ]
  },
  {
   "cell_type": "markdown",
   "metadata": {},
   "source": [
    "#### `AMWAY, Oriflame, AVON constitute more than 75% of our client base.`"
   ]
  },
  {
   "cell_type": "markdown",
   "metadata": {},
   "source": [
    "### Shipper"
   ]
  },
  {
   "cell_type": "code",
   "execution_count": 30,
   "metadata": {
    "scrolled": true
   },
   "outputs": [
    {
     "data": {
      "text/plain": [
       "AMWAY INDIA ENTERPRISES PVT.LTD. - 24008    34874\n",
       "Oriflame India Private Limited - 74009      22559\n",
       "AVON BEAUTY PRODUCTS( - 46057               17512\n",
       "Clovia.Com - 33178                           9406\n",
       "Modicare Limited - 15165                     7005\n",
       "Koovs - 22134                                3533\n",
       "UrbanClap Technologies Pvt Ltd - 28153       1090\n",
       "Gonoise.com  - 42033                          926\n",
       "Bright lifecare Pvt. Ltd. - 58044             416\n",
       "VLCC Personal Care - 22126                    308\n",
       "VediCare - 46182                               54\n",
       "Seniority.Com - 62181                          45\n",
       "RS Seven Lifestyle Pvt. Ltd. - 94092           40\n",
       "HappyhealthyMe - 19177                         37\n",
       "KKrowten - 69174                               28\n",
       "PINK GUPPY - 30160                              5\n",
       "JOE SHU - 49131                                 3\n",
       "vestigebestdeals.com - 10091                    2\n",
       "Name: Shipper, dtype: int64"
      ]
     },
     "execution_count": 30,
     "metadata": {},
     "output_type": "execute_result"
    }
   ],
   "source": [
    "df[\"Shipper\"].value_counts()"
   ]
  },
  {
   "cell_type": "code",
   "execution_count": 31,
   "metadata": {},
   "outputs": [],
   "source": [
    "# Dropping Shipper because Shipper and Vendor are same.\n",
    "df.drop(\"Shipper\",axis=1,inplace=True)"
   ]
  },
  {
   "cell_type": "markdown",
   "metadata": {},
   "source": [
    "### Pickup Address"
   ]
  },
  {
   "cell_type": "code",
   "execution_count": 32,
   "metadata": {},
   "outputs": [
    {
     "data": {
      "text/plain": [
       "KOLKATAkolkata                                                                                                                                   13005\n",
       "Purple Panda Warehouse Khasra No 566/1, Arun Plaza, Bijwasan,Near Amity College, Palam Vihar Road,NeDelhi NCR                                     9406\n",
       "API ADDAPI ADDMumbai                                                                                                                              9257\n",
       "JANPATHDelhi NCR                                                                                                                                  7776\n",
       "BHIWANDIMumbai                                                                                                                                    7658\n",
       "API ADDAPI ADDDelhi NCR                                                                                                                           6298\n",
       "API ADDAPI ADDBangalore                                                                                                                           4458\n",
       "API ADDAPI ADDAhmedabad                                                                                                                           3979\n",
       "API ADDAPI ADDkolkata                                                                                                                             3774\n",
       "C/O Directship Fulfillment Services Pvt Ltd KhasraDelhi NCR                                                                                       3533\n",
       "BAROTADelhi NCR                                                                                                                                   3462\n",
       "HARLURBangalore                                                                                                                                   2906\n",
       "API ADDAPI ADDChennai                                                                                                                             2896\n",
       "ZirkpurChandigarh                                                                                                                                 2280\n",
       "MUNDKADelhi NCR                                                                                                                                   2114\n",
       "MODICARE LIMITED GALA  NO.1&3 A SUMAR LOGISTICS KHEDAAhmedabad                                                                                    1891\n",
       "MODICARELIMITEDGALANO.1&3ASUMARLOGISTICSKHEDAAhmedabad                                                                                            1648\n",
       "API ADDAPI ADDBhubaneswar                                                                                                                         1611\n",
       "GUWAHATIGuwahati                                                                                                                                  1400\n",
       "NOIDADelhi NCR                                                                                                                                    1373\n",
       "API ADDAPI ADDvaranasi                                                                                                                            1200\n",
       "API ADDAPI ADDPatna                                                                                                                               1059\n",
       "mahadevpuraBangalore                                                                                                                              1007\n",
       "GurgaonDelhi NCR                                                                                                                                   926\n",
       "Khasra No.- 45/6/1, 6/2, 7, 8, Village  JauriTehshil - FarrukhnagarDelhi NCR                                                                       865\n",
       "YWNHBangalore                                                                                                                                      563\n",
       "BhiwandiMumbai                                                                                                                                     416\n",
       "hadbast no 143 khasra no 59/3/2 situated in revenue estate pf [atjreroDelhi NCR                                                                    308\n",
       "Khasra No.- 45/6/1, 6/2, 7, 8, Village  JauriDelhi NCR                                                                                             225\n",
       "PhullanwalLudhiana                                                                                                                                  84\n",
       "barotaDelhi NCR                                                                                                                                     61\n",
       "Varanasivaranasi                                                                                                                                    60\n",
       "AhmedabadAhmedabad                                                                                                                                  56\n",
       "KadugodiBangalore                                                                                                                                   54\n",
       "Khasra No: 1097, KapasheraDelhi NCR                                                                                                                 40\n",
       "yeshwanthpuraBangalore                                                                                                                              38\n",
       "Totals Solution, Bldg no 25, gala no. 1 to 5, 1st floor, Indian complex, opp Gajanan petrol pump, Mankoli Naka,Bhiwandi, Maharashtra,INMumbai       32\n",
       "PATNAPatna                                                                                                                                          28\n",
       "kormangalaBangalore                                                                                                                                 24\n",
       "CHENNAIChennai                                                                                                                                      15\n",
       "KEC International, c/o Seniority, Spencer Building, Ground Floor,Forjett Street, Tardeo,Mumbai, Maharashtra,INMumbai                                11\n",
       "jaynagarBangalore                                                                                                                                    8\n",
       "LUDHIANALudhiana                                                                                                                                     7\n",
       "BangaloreBangalore                                                                                                                                   5\n",
       "2501 RNA mirage, SK ahire marg, worli, MumbaiAhmedabad                                                                                               4\n",
       "Delhi NCR                                                                                                                                            4\n",
       "MJ industrial Estate, Mauja Satgharia, PanchalaBhubaneswar                                                                                           3\n",
       "mundakaDelhi NCR                                                                                                                                     2\n",
       "KKrowten India Enterprises Private Limited, \\n3rd Floor, A-6/7 Patni Chambers,Tonk Road,Jaipur,302015Jaipur                                          2\n",
       "Plot no.434/2 Phirni Road Mundka, New Delhi 110 041, IndiaDelhi NCR                                                                                  2\n",
       "PRINCESS BEAUTY PARLOUR, SARBODAYA COMPLEX, SHREE RIDDHI, \"A\" - WING, 001, MIRA BHAYANDAR ROAD, MIRAMumbai                                           1\n",
       "SilcharGuwahati                                                                                                                                      1\n",
       "Joe Shu,Shop No 253-A,DLF Promenade,Vasant Kunj , New Delhi,11070Delhi NCR                                                                           1\n",
       "702, DHEERAJ SWAPNA, PALI NADA, PALI ROAD, BANDRA (W), MUMBAI - 400050 , , ,BANDRA ,INDIA, BANDRA, 4Mumbai                                           1\n",
       "SHALOM PAPDY, OPP. ST. ALOYSIUS ENGLISH SCHOOL, NEAR CHANE BORI NAKA, VASAI (W), PALGHARMumbai                                                       1\n",
       "Chulna Village opp police patil house chowk TALAV ROAD NR FOUSZI GYM VASAI (W)Mumbai                                                                 1\n",
       "05/B Yamunotri bldg. Jangid complex Opp Jammu Kashmir bank MIRA ROAD EASTMumbai                                                                      1\n",
       "421 sterling mansion opp Asmita super market nayanagar MIRA ROAD EASTMumbai                                                                          1\n",
       "*KEC International, c/o Seniority, Spencer Building, Ground Floor,Forjett Street, Tardeo,Mumbai, Maharashtra,INMumbai                                1\n",
       "Name: Pickup Address, dtype: int64"
      ]
     },
     "execution_count": 32,
     "metadata": {},
     "output_type": "execute_result"
    }
   ],
   "source": [
    "df[\"Pickup Address\"].value_counts()"
   ]
  },
  {
   "cell_type": "code",
   "execution_count": 33,
   "metadata": {},
   "outputs": [],
   "source": [
    "# We dont require this column as of now, so we will drop this. We will use Pickup Pincode instead.\n",
    "df.drop(\"Pickup Address\", axis=1, inplace=True)"
   ]
  },
  {
   "cell_type": "markdown",
   "metadata": {},
   "source": [
    "### Pickup Pincode\n",
    "##### I want to know the region by using pincode. Got the list online, will use this list to extract state.\n",
    "- 11 - Delhi\n",
    "- 12, 13 - Haryana\n",
    "- 14, 15 - Punjab\n",
    "- 16 - Chandigarh\n",
    "- 17 - Himachal Pradesh\n",
    "- 18 to 19 - Jammu & Kashmir\n",
    "- 20 to 28 - Uttar Pradesh, Uttarakhand\n",
    "- 30 to 34 - Rajasthan\n",
    "- 36 to 39 - Gujarat\n",
    "- 40 - Goa\n",
    "- 40 to 44 - Maharashtra\n",
    "- 45 to 48 - Madhya Pradesh\n",
    "- 49 - Chhattisgarh\n",
    "- 50 to 53 - Andhra Pradesh\n",
    "- 56 to 59 - Karnataka\n",
    "- 60 to 64 - Tamil Nadu\n",
    "- 67 to 69 - Kerala\n",
    "- 682 - Lakshadweep\n",
    "- 70, 74 - West Bengal\n",
    "- 744 - Andaman & Nicobar\n",
    "- 75, 77 - Odisha\n",
    "- 78 - Assam\n",
    "- 79 - Arunachal Pradesh\n",
    "- 793, 794, 783123 - Meghalaya\n",
    "- 795 - Manipur\n",
    "- 796 - Mizoram\n",
    "- 799 - Tripura\n",
    "- 80 to 85 - Bihar, Jharkhand"
   ]
  },
  {
   "cell_type": "code",
   "execution_count": 34,
   "metadata": {},
   "outputs": [
    {
     "data": {
      "text/plain": [
       "11    32673\n",
       "70    11610\n",
       "42    11299\n",
       "56     9063\n",
       "38     7574\n",
       "40     6086\n",
       "71     5169\n",
       "60     2911\n",
       "14     2371\n",
       "12     2346\n",
       "75     1614\n",
       "78     1401\n",
       "20     1373\n",
       "22     1260\n",
       "80     1087\n",
       "No        4\n",
       "30        2\n",
       "Name: Pickup Pincode, dtype: int64"
      ]
     },
     "execution_count": 34,
     "metadata": {},
     "output_type": "execute_result"
    }
   ],
   "source": [
    "df[\"Pickup Pincode\"].apply(lambda x:x[0:2]).value_counts()"
   ]
  },
  {
   "cell_type": "markdown",
   "metadata": {},
   "source": [
    "### Feature Engineering \n",
    "- Pickup City"
   ]
  },
  {
   "cell_type": "code",
   "execution_count": 35,
   "metadata": {},
   "outputs": [],
   "source": [
    "def city(x):\n",
    "    m = {\"11\":\"Delhi\", \"70\":\"WestBengal\", \"42\":\"Maharashtra\", \"56\":\"Karnataka\", \"38\": \"Gujrat\", \"40\":\"Maharashtra\", \n",
    "         \"71\": \"WestBengal\", \"60\":\"Tamilnadu\",\"14\": \"Punjab\",\"12\":\"Haryana\",\"75\":\"Odisha\",\"78\":\"Assam\",\"20\":\"UttarPradesh, Uttrakhand\",\n",
    "         \"22\":\"UttarPradesh, Uttrakhand\",\"80\":\"Bihar, Jharkhand\",\"No\":\"Unknown\",\"30\":\"Rajasthan\"}\n",
    "    a = x\n",
    "    i = x[0:2]\n",
    "    if i in m:\n",
    "        a = m[i]\n",
    "    return(a)\n",
    "        \n",
    "df[\"Pickup City\"] = df[\"Pickup Pincode\"].apply(lambda x: city(x))\n"
   ]
  },
  {
   "cell_type": "code",
   "execution_count": 51,
   "metadata": {
    "scrolled": true
   },
   "outputs": [
    {
     "data": {
      "text/plain": [
       "Delhi                       33.393293\n",
       "Maharashtra                 17.768261\n",
       "WestBengal                  17.148902\n",
       "Karnataka                    9.262799\n",
       "Gujrat                       7.740973\n",
       "Tamilnadu                    2.975175\n",
       "UttarPradesh, Uttrakhand     2.691046\n",
       "Punjab                       2.423270\n",
       "Haryana                      2.397719\n",
       "Odisha                       1.649581\n",
       "Assam                        1.431886\n",
       "Bihar, Jharkhand             1.110963\n",
       "Unknown                      0.004088\n",
       "Rajasthan                    0.002044\n",
       "Name: Pickup City, dtype: float64"
      ]
     },
     "execution_count": 51,
     "metadata": {},
     "output_type": "execute_result"
    }
   ],
   "source": [
    "df[\"Pickup City\"].value_counts(normalize = True)*100"
   ]
  },
  {
   "cell_type": "markdown",
   "metadata": {},
   "source": [
    "`Delhi, Maharashtra, WestBengal are pickup hubs. More than 68% times pickup is from one of these states. On the flip side Rajasthan, Bihar, Assam, Odisha have very less pickups happening.`"
   ]
  },
  {
   "cell_type": "markdown",
   "metadata": {},
   "source": [
    "### Delivery Status"
   ]
  },
  {
   "cell_type": "code",
   "execution_count": 37,
   "metadata": {
    "scrolled": true
   },
   "outputs": [
    {
     "data": {
      "text/plain": [
       "Delivered                           94420\n",
       "Undelivered                          2286\n",
       "Out for delivery                      315\n",
       "Shipment included in bag              285\n",
       "Redirected Shipment                   209\n",
       "Inscan At DC                          196\n",
       "Bag inscanned at DC                   131\n",
       "Shipment picked up and inscanned        1\n",
       "Name: Status, dtype: int64"
      ]
     },
     "execution_count": 37,
     "metadata": {},
     "output_type": "execute_result"
    }
   ],
   "source": [
    "df[\"Status\"].value_counts()"
   ]
  },
  {
   "cell_type": "code",
   "execution_count": 38,
   "metadata": {},
   "outputs": [],
   "source": [
    "# Inscan At DC = Bag inscanned at DC = Shipment picked up and inscanned\n",
    "df[\"Status\"] = df[\"Status\"].apply(lambda x : \"Inscaned at DC\" if x==\"Bag inscanned at DC\" or x==\"Shipment picked up and inscanned\" or x==\"Inscan At DC\" else x)"
   ]
  },
  {
   "cell_type": "code",
   "execution_count": 39,
   "metadata": {
    "scrolled": true
   },
   "outputs": [
    {
     "data": {
      "text/plain": [
       "Delivered                   94420\n",
       "Undelivered                  2286\n",
       "Inscaned at DC                328\n",
       "Out for delivery              315\n",
       "Shipment included in bag      285\n",
       "Redirected Shipment           209\n",
       "Name: Status, dtype: int64"
      ]
     },
     "execution_count": 39,
     "metadata": {},
     "output_type": "execute_result"
    }
   ],
   "source": [
    "df[\"Status\"].value_counts()"
   ]
  },
  {
   "cell_type": "code",
   "execution_count": 40,
   "metadata": {
    "scrolled": false
   },
   "outputs": [
    {
     "data": {
      "text/plain": [
       "Text(0, 0.5, 'Percentage Undelivered')"
      ]
     },
     "execution_count": 40,
     "metadata": {},
     "output_type": "execute_result"
    },
    {
     "name": "stderr",
     "output_type": "stream",
     "text": [
      "posx and posy should be finite values\n",
      "posx and posy should be finite values\n",
      "posx and posy should be finite values\n",
      "posx and posy should be finite values\n",
      "posx and posy should be finite values\n",
      "posx and posy should be finite values\n",
      "posx and posy should be finite values\n",
      "posx and posy should be finite values\n",
      "posx and posy should be finite values\n",
      "posx and posy should be finite values\n",
      "posx and posy should be finite values\n",
      "posx and posy should be finite values\n"
     ]
    },
    {
     "data": {
      "image/png": "[encoded data removed]",
      "text/plain": [
       "<Figure size 576x288 with 1 Axes>"
      ]
     },
     "metadata": {},
     "output_type": "display_data"
    }
   ],
   "source": [
    "plt.figure(figsize=(8,4))\n",
    "temp = round((df[df[\"Status\"] != \"Delivered\"][\"Vendor\"].value_counts()/df[\"Vendor\"].value_counts()*100),2).sort_values(ascending=False)\n",
    "temp = temp.reset_index()\n",
    "temp.columns = [\"Vendor\", \"Percentage Undelivered\"]\n",
    "sns.barplot(data=temp,x=\"Vendor\",y=\"Percentage Undelivered\")\n",
    "xlocs, xlabs = plt.xticks()\n",
    "for i, j in enumerate(temp[\"Percentage Undelivered\"]):\n",
    "    plt.text(xlocs[i] - 0.25, j + 0.01, str(j))\n",
    "plt.xticks(rotation=90)\n",
    "plt.title(\"%age of Undelivered goods for each Vendor\", fontsize=15)\n",
    "plt.xlabel(\"Vendor\",fontsize=10)\n",
    "plt.ylabel(\"Percentage Undelivered\", fontsize=10)"
   ]
  },
  {
   "cell_type": "markdown",
   "metadata": {},
   "source": [
    "#### Here, we can see that VLCC, RS Seven, Koovs and Gonoise.com have more than 50% of goods undelivered. Lets find out the reason for the same."
   ]
  },
  {
   "cell_type": "markdown",
   "metadata": {},
   "source": [
    "### Reason"
   ]
  },
  {
   "cell_type": "code",
   "execution_count": 41,
   "metadata": {
    "scrolled": true
   },
   "outputs": [
    {
     "data": {
      "text/plain": [
       "221 - Consignee Refused To Accept                        52\n",
       "777 - RTS - Return To Shipper                            38\n",
       "202 - Correction Of Wrong POD Details                    24\n",
       "207 - Misrouted due to Shipper's fault                    7\n",
       "236 - Customer requested delivery on another date         7\n",
       "235 - Address not found & phone not picked up             5\n",
       "234 - Address not found & wrong contact No                3\n",
       "231 - Address Unlocatable - Consignee not contactable     2\n",
       "230 - Misrouted due to Holisol's fault                    1\n",
       "222 - Address Incorrect                                   1\n",
       "219 - Consignee Not Available                             1\n",
       "237 - Customer out of station                             1\n",
       "217 - Delivery Area Not Accessible                        1\n",
       "223 - Address Incomplete                                  1\n",
       "232 - House Lock                                          1\n",
       "Name: Reason, dtype: int64"
      ]
     },
     "execution_count": 41,
     "metadata": {},
     "output_type": "execute_result"
    }
   ],
   "source": [
    "df[(df[\"Vendor\"] == \"VLCC Personal Care\") & (df[\"Status\"] != \"Delivered\")][\"Reason\"].value_counts()"
   ]
  },
  {
   "cell_type": "code",
   "execution_count": 42,
   "metadata": {
    "scrolled": true
   },
   "outputs": [
    {
     "data": {
      "text/plain": [
       "777 - RTS - Return To Shipper             9\n",
       "221 - Consignee Refused To Accept         3\n",
       "None                                      2\n",
       "230 - Misrouted due to Holisol's fault    1\n",
       "207 - Misrouted due to Shipper's fault    1\n",
       "Name: Reason, dtype: int64"
      ]
     },
     "execution_count": 42,
     "metadata": {},
     "output_type": "execute_result"
    }
   ],
   "source": [
    "df[(df[\"Vendor\"] == \"RS Seven Lifestyle Pvt. Ltd.\") & (df[\"Status\"] != \"Delivered\")][\"Reason\"].value_counts()"
   ]
  },
  {
   "cell_type": "code",
   "execution_count": 43,
   "metadata": {},
   "outputs": [
    {
     "data": {
      "text/plain": [
       "777 - RTS - Return To Shipper                            326\n",
       "221 - Consignee Refused To Accept                        169\n",
       "207 - Misrouted due to Shipper's fault                    50\n",
       "236 - Customer requested delivery on another date         33\n",
       "235 - Address not found & phone not picked up             12\n",
       "231 - Address Unlocatable - Consignee not contactable      7\n",
       "None                                                       7\n",
       "227 - Residence/Office Closed                              5\n",
       "232 - House Lock                                           5\n",
       "223 - Address Incomplete                                   5\n",
       "212 - Consignee Out Of Station                             5\n",
       "213 - Scheduled for Next Day Delivery                      5\n",
       "237 - Customer out of station                              4\n",
       "219 - Consignee Not Available                              3\n",
       "233 - Cash not ready                                       3\n",
       "333 - Shipment Lost                                        3\n",
       "234 - Address not found & wrong contact No                 3\n",
       "209 - Consignee Refusing to Pay COD Amount                 2\n",
       "220 - No Such Consignee At Given Address                   1\n",
       "888 - Shipment Destroyed/Abandoned                         1\n",
       "238 - Vehicle break down                                   1\n",
       "202 - Correction Of Wrong POD Details                      1\n",
       "100 - Delay in Delivery Expected                           1\n",
       "Name: Reason, dtype: int64"
      ]
     },
     "execution_count": 43,
     "metadata": {},
     "output_type": "execute_result"
    }
   ],
   "source": [
    "df[(df[\"Vendor\"] == \"Koovs\") & (df[\"Status\"] != \"Delivered\")][\"Reason\"].value_counts()"
   ]
  },
  {
   "cell_type": "code",
   "execution_count": 44,
   "metadata": {},
   "outputs": [
    {
     "data": {
      "text/plain": [
       "777 - RTS - Return To Shipper                        126\n",
       "207 - Misrouted due to Shipper's fault                10\n",
       "221 - Consignee Refused To Accept                      8\n",
       "236 - Customer requested delivery on another date      3\n",
       "232 - House Lock                                       3\n",
       "213 - Scheduled for Next Day Delivery                  2\n",
       "208 - Contents Missing                                 1\n",
       "234 - Address not found & wrong contact No             1\n",
       "230 - Misrouted due to Holisol's fault                 1\n",
       "Name: Reason, dtype: int64"
      ]
     },
     "execution_count": 44,
     "metadata": {},
     "output_type": "execute_result"
    }
   ],
   "source": [
    "df[(df[\"Vendor\"] == \"Gonoise.com \") & (df[\"Status\"] != \"Delivered\")][\"Reason\"].value_counts()"
   ]
  },
  {
   "cell_type": "markdown",
   "metadata": {},
   "source": [
    "#### `There are 3 cases which are due to holisol's fault. All others are either on customers end or due to incorrect address.`\n",
    "#### `Solutions : `\n",
    "- 1) Customers should also be asked to share a pinned location along with written address.\n",
    "- 2) End Customer should be called for confirmation before actually disbursing the parcel.\n",
    "- 3) Also, we need to find a solution for \"Misrouted due to Shippers fault\"."
   ]
  },
  {
   "cell_type": "markdown",
   "metadata": {},
   "source": [
    "### Now, lets club similar reasons under same name for simple understanding."
   ]
  },
  {
   "cell_type": "code",
   "execution_count": 45,
   "metadata": {},
   "outputs": [
    {
     "data": {
      "text/plain": [
       "999 - Delivered                                            94328\n",
       "777 - RTS - Return To Shipper                               1471\n",
       "221 - Consignee Refused To Accept                            437\n",
       "None                                                         405\n",
       "236 - Customer requested delivery on another date            278\n",
       "207 - Misrouted due to Shipper's fault                       197\n",
       "235 - Address not found & phone not picked up                125\n",
       "210 - COD Amount Not Ready                                   106\n",
       "213 - Scheduled for Next Day Delivery                         72\n",
       "219 - Consignee Not Available                                 54\n",
       "230 - Misrouted due to Holisol's fault                        53\n",
       "233 - Cash not ready                                          43\n",
       "232 - House Lock                                              41\n",
       "231 - Address Unlocatable - Consignee not contactable         31\n",
       "202 - Correction Of Wrong POD Details                         31\n",
       "234 - Address not found & wrong contact No                    31\n",
       "227 - Residence/Office Closed                                 25\n",
       "223 - Address Incomplete                                      15\n",
       "237 - Customer out of station                                 13\n",
       "212 - Consignee Out Of Station                                11\n",
       "100 - Delay in Delivery Expected                              11\n",
       "238 - Vehicle break down                                      10\n",
       "333 - Shipment Lost                                            9\n",
       "220 - No Such Consignee At Given Address                       8\n",
       "222 - Address Incorrect                                        8\n",
       "218 - Consignee Shifted from the Given Address                 5\n",
       "240 - Heavy rain fall                                          5\n",
       "209 - Consignee Refusing to Pay COD Amount                     3\n",
       "228 - Out of Delivery Area                                     3\n",
       "201 - Awaiting Consignee's Response for Delivery               2\n",
       "203 - Re-attempt and Return                                    2\n",
       "217 - Delivery Area Not Accessible                             2\n",
       "888 - Shipment Destroyed/Abandoned                             1\n",
       "242 - Entry refused and phone not reachable                    1\n",
       "241 - Customer requested delivery on another address           1\n",
       "226 - Holiday/Weekly off - Delivery on Next Working Day        1\n",
       "304 - Network Delay                                            1\n",
       "302 - Shipment Damaged                                         1\n",
       "216 - Late Arrival/Scheduled for Next Working Day              1\n",
       "208 - Contents Missing                                         1\n",
       "Name: Reason, dtype: int64"
      ]
     },
     "execution_count": 45,
     "metadata": {},
     "output_type": "execute_result"
    }
   ],
   "source": [
    "df[\"Reason\"].value_counts()"
   ]
  },
  {
   "cell_type": "code",
   "execution_count": 46,
   "metadata": {},
   "outputs": [],
   "source": [
    "def func(x):\n",
    "    Delivered = [\"999 - Delivered\"]\n",
    "    Return = [\"777 - RTS - Return To Shipper\",\"203 - Re-attempt and Return\"]\n",
    "    none = [\"None\"]\n",
    "    Shippers_fault = [\"207 - Misrouted due to Shipper's fault\", \"302 - Shipment Damaged\", \"888 - Shipment Destroyed/Abandoned\", \"333 - Shipment Lost\"]\n",
    "    delayed_delivery = [\"216 - Late Arrival/Scheduled for Next Working Day\",\"236 - Customer requested delivery on another date\",\"304 - Network Delay\",\"208 - Contents Missing\",\"226 - Holiday/Weekly off - Delivery on Next Working Day\"]\n",
    "    others = [\"201 - Awaiting Consignee's Response for Delivery\",\"213 - Scheduled for Next Day Delivery\",\"100 - Delay in Delivery Expected\",\"238 - Vehicle break down\",\"240 - Heavy rain fall\"]\n",
    "    Holisols_fault = [\"230 - Misrouted due to Holisol's fault\",\"\"]\n",
    "    Customers_fault = [\"221 - Consignee Refused To Accept\",\"210 - COD Amount Not Ready\",\"219 - Consignee Not Available\",\"233 - Cash not ready\",\"232 - House Lock\",\"234 - Address not found & wrong contact No\",\"231 - Address Unlocatable - Consignee not contactable\",\"202 - Correction Of Wrong POD Details\",\"237 - Customer out of station\",\"212 - Consignee Out Of Station\",\"218 - Consignee Shifted from the Given Address\",\"209 - Consignee Refusing to Pay COD Amount\",\"242 - Entry refused and phone not reachable\",\"241 - Customer requested delivery on another address\",\"220 - No Such Consignee At Given Address\"]\n",
    "    Address_Issue = [\"235 - Address not found & phone not picked up\",\"227 - Residence/Office Closed\",\"223 - Address Incomplete\",\"222 - Address Incorrect\",\"217 - Delivery Area Not Accessible\",\"228 - Out of Delivery Area\"]\n",
    "    reason = x\n",
    "    if x in Delivered:\n",
    "        reason = \"Delivered\"\n",
    "    elif x in Return:\n",
    "        reason = \"Return\"\n",
    "    elif x in none:\n",
    "        reason=\"None\"\n",
    "    elif x in Shippers_fault:\n",
    "        reason = \"Shippers Fault\"\n",
    "    elif x in delayed_delivery:\n",
    "        reason = \"Delayed Delivery\"\n",
    "    elif x in others:\n",
    "        reason = \"Others\"\n",
    "    elif x in Holisols_fault:\n",
    "        reason = \"Holisols Fault\"\n",
    "    elif x in Customers_fault:\n",
    "        reason = \"Customers Fault\"\n",
    "    elif x in Address_Issue:\n",
    "        reason = \"Address Issue\"\n",
    "    else:\n",
    "        reason = x\n",
    "    return(reason)    \n",
    "\n",
    "df[\"clubbed_reason\"] = df[\"Reason\"].apply(lambda x:func(x))\n"
   ]
  },
  {
   "cell_type": "code",
   "execution_count": 47,
   "metadata": {
    "scrolled": false
   },
   "outputs": [
    {
     "data": {
      "image/png": "[encoded data removed]",
      "text/plain": [
       "<Figure size 432x288 with 1 Axes>"
      ]
     },
     "metadata": {},
     "output_type": "display_data"
    }
   ],
   "source": [
    "df[df[\"clubbed_reason\"]!= \"Delivered\"][\"clubbed_reason\"].value_counts().plot.pie(\n",
    "    colors=[\"#DC143C\",\"lavender\",\"blue\",\"lightgreen\",\"pink\",\"magenta\",\"brown\",\"white\"])\n",
    "plt.ylabel(\"\")\n",
    "plt.title(\"Reasons for fail in Delivery\")\n",
    "plt.show()"
   ]
  },
  {
   "cell_type": "markdown",
   "metadata": {},
   "source": [
    "#### `As we can see more than 60% of deliveries didn't take place due to 2 reasons.`\n",
    "- Return\n",
    "- Customers Fault."
   ]
  },
  {
   "cell_type": "markdown",
   "metadata": {},
   "source": [
    "### Delivered Date vs Last updated on Date"
   ]
  },
  {
   "cell_type": "code",
   "execution_count": 48,
   "metadata": {},
   "outputs": [
    {
     "data": {
      "text/plain": [
       "0 days    94411\n",
       "Name: Lag, dtype: int64"
      ]
     },
     "execution_count": 48,
     "metadata": {},
     "output_type": "execute_result"
    }
   ],
   "source": [
    "df[\"Lag\"] = df[\"Last Updated On Date\"] - df[\"Delivered Date\"]\n",
    "df[\"Lag\"].value_counts()"
   ]
  },
  {
   "cell_type": "markdown",
   "metadata": {},
   "source": [
    "### Delivered Time vs Last updated on Time"
   ]
  },
  {
   "cell_type": "code",
   "execution_count": 49,
   "metadata": {},
   "outputs": [
    {
     "data": {
      "text/plain": [
       "0 days    94411\n",
       "Name: Lag, dtype: int64"
      ]
     },
     "execution_count": 49,
     "metadata": {},
     "output_type": "execute_result"
    }
   ],
   "source": [
    "df[\"Lag\"] = df[\"Last Updated On Time\"] - df[\"Delivered Time\"]\n",
    "df[\"Lag\"].value_counts()"
   ]
  },
  {
   "cell_type": "markdown",
   "metadata": {},
   "source": [
    "#### We can see that there was no delay in updation of the status. It was updated at the time of delivery itself. Thats good thing."
   ]
  },
  {
   "cell_type": "markdown",
   "metadata": {},
   "source": [
    "## Summary"
   ]
  },
  {
   "cell_type": "markdown",
   "metadata": {},
   "source": [
    " - AMWAY INDIA got us most business in case of Forward Shipments and Koovs in case of RTS.\n",
    " \n",
    " - VLCC has more RTS than FS.\n",
    " \n",
    " - Major Client base - AMWAY,Oriflame,Avon,Clovia,Koovs and Modicare.\n",
    " \n",
    " - Approximately 80% of our business involves inter-city deliveries.\n",
    " \n",
    " - For both inter-city and intra-city, more than 96% packages are sucessfully delivered.\n",
    " \n",
    " - AMWAY, Oriflame, AVON constitute more than 75% of our client base.\n",
    " \n",
    " - Delhi, Maharashtra, WestBengal are pickup hubs.More than 68% times pickup is from one of these states. \n",
    "   On the flip side Rajasthan, Bihar, Assam, Odisha have very less pickups happening.\n",
    "   \n",
    " - The cases when the parcel went undelivered were mostly (more than 60% of times) due to 2 reasons:\n",
    "         1)Return\n",
    "         2)Customers Fault : Consignee Refused To Accept, COD Amount Not Ready, House Lock etc. \n",
    "         \n",
    " - There are 3 cases which are due to holisol's fault. All others are either on customers end or due to \n",
    "   incorrect address.\n",
    "   \n",
    "   Solutions :\n",
    "     - Customers should be asked to share a pinned location along with written address while placing an order.\n",
    "     - End Customer should be called for confirmation before actually disbursing the package.\n",
    "     - Also, we need to find a solution for \"Misrouted due to Shippers and holisols fault\" by digging deep into\n",
    "      the issue..\n",
    "   "
   ]
  }
 ],
 "metadata": {
  "kernelspec": {
   "display_name": "Python 3",
   "language": "python",
   "name": "python3"
  },
  "language_info": {
   "codemirror_mode": {
    "name": "ipython",
    "version": 3
   },
   "file_extension": ".py",
   "mimetype": "text/x-python",
   "name": "python",
   "nbconvert_exporter": "python",
   "pygments_lexer": "ipython3",
   "version": "3.8.3"
  }
 },
 "nbformat": 4,
 "nbformat_minor": 4
}
